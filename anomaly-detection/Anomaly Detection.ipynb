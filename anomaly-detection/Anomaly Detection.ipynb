{
 "cells": [
  {
   "cell_type": "markdown",
   "metadata": {},
   "source": [
    "# Anomaly Detection Excercise\n",
    "\n",
    "by Stijn Geselle"
   ]
  },
  {
   "cell_type": "code",
   "execution_count": 42,
   "metadata": {
    "collapsed": false
   },
   "outputs": [],
   "source": [
    "%matplotlib inline\n",
    "\n",
    "import numpy as np\n",
    "import matplotlib.pyplot as plt\n",
    "import random\n",
    "from itertools import cycle"
   ]
  },
  {
   "cell_type": "markdown",
   "metadata": {},
   "source": [
    "Parse the data from the input file. The input is a CSV with 2D points."
   ]
  },
  {
   "cell_type": "code",
   "execution_count": 28,
   "metadata": {
    "collapsed": false
   },
   "outputs": [],
   "source": [
    "data = np.genfromtxt('data/anomaly.csv', delimiter=',')"
   ]
  },
  {
   "cell_type": "markdown",
   "metadata": {},
   "source": [
    "Make a scatter plot of the data to get a sense of what we are dealing with."
   ]
  },
  {
   "cell_type": "code",
   "execution_count": 43,
   "metadata": {
    "collapsed": false,
    "scrolled": true
   },
   "outputs": [
    {
     "data": {
      "image/png": "[encoded data removed]",
      "text/plain": [
       "<matplotlib.figure.Figure at 0x77e4c88>"
      ]
     },
     "metadata": {},
     "output_type": "display_data"
    }
   ],
   "source": [
    "plt.scatter(data[:,0], data[:,1])\n",
    "plt.xlabel('$x_1$')\n",
    "plt.ylabel('$x_2$', rotation=0)\n",
    "plt.show()"
   ]
  },
  {
   "cell_type": "markdown",
   "metadata": {},
   "source": [
    "We can distinguish seven clusters so we need to create a boundary around those clusters. All data points that are located outside the cluster's boundary will be flagged as an anomaly."
   ]
  },
  {
   "cell_type": "code",
   "execution_count": 50,
   "metadata": {
    "collapsed": true
   },
   "outputs": [],
   "source": [
    "# Number of clusters we have\n",
    "nclusters = 7"
   ]
  },
  {
   "cell_type": "markdown",
   "metadata": {},
   "source": [
    "The main idea is to first find the clusters by using $k$-means and then calculate the median distance from each point of the cluster to the cluster's center. Points that are far away from the center will be flagged as outliers. We will use the standard deviation to determine if a distance is far away from the center. The median is used instead of the mean, because outliers have a high impact on a mean."
   ]
  },
  {
   "cell_type": "markdown",
   "metadata": {},
   "source": [
    "## $k$-means algorithm to find the clusters"
   ]
  },
  {
   "cell_type": "code",
   "execution_count": 51,
   "metadata": {
    "collapsed": true
   },
   "outputs": [],
   "source": [
    "def kmeans(X, k):\n",
    "    # Initialize to k random centers\n",
    "    oldmu = random.sample(X, k)\n",
    "    mu = random.sample(X, k)\n",
    "    \n",
    "    # Converges when the mu and oldmu values are the same\n",
    "    while not is_equal(mu, oldmu):\n",
    "        oldmu = mu\n",
    "        # Assign all points in X to clusters\n",
    "        clusters = cluster_data(X, mu)\n",
    "        # Reevaluate centers\n",
    "        mu = reevaluate_centroids(clusters)\n",
    "        \n",
    "    return (mu, clusters)\n",
    "\n",
    "def cluster_data(X, mu):\n",
    "    clusters  = {}\n",
    "    \n",
    "    for x in X:\n",
    "        norms = []\n",
    "        \n",
    "        # Iterate over all centroids and find the one with the minimum norm\n",
    "        for centroid in enumerate(mu):\n",
    "            norm = np.linalg.norm(x-mu[centroid[0]])\n",
    "            norms.append( (centroid[0], norm) )\n",
    "            \n",
    "        bestcluster = min(norms, key=lambda t: t[1])[0]\n",
    "        \n",
    "        if bestcluster in clusters:\n",
    "            clusters[bestcluster].append(x)\n",
    "        else:\n",
    "            clusters[bestcluster] = [x]\n",
    "            \n",
    "    return clusters\n",
    "\n",
    "def is_equal(mu, oldmu):\n",
    "    \n",
    "    # We use a set here to make comparison easier\n",
    "    return (set([tuple(a) for a in mu]) == set([tuple(a) for a in oldmu]))\n",
    "\n",
    "def reevaluate_centroids(clusters):\n",
    "    # Calculate the new mean (mu) of each cluster\n",
    "    mu = [np.mean(clusters[k], axis=0) for k in sorted(clusters.keys())]\n",
    "        \n",
    "    return mu"
   ]
  },
  {
   "cell_type": "markdown",
   "metadata": {},
   "source": [
    "## Outlier detection of the clusters"
   ]
  },
  {
   "cell_type": "code",
   "execution_count": 52,
   "metadata": {
    "collapsed": true
   },
   "outputs": [],
   "source": [
    "def euclidian_distance(x1, x2):\n",
    "    return np.sqrt(np.sum((x1 - x2)**2))\n",
    "\n",
    "\n",
    "def outliers(clusters, centroids, nsigma=3):\n",
    "    outliers = []\n",
    "    \n",
    "    for label, cluster in clusters.iteritems():\n",
    "        center = centroids[label]\n",
    "    \n",
    "        # Calculate the Euclidian distances from each point to the center of the cluster\n",
    "        distances_center = {euclidian_distance(x, center): x for x in cluster}\n",
    "        median = np.median(distances_center.keys())    \n",
    "        sigma = np.std(distances_center.keys())  \n",
    "        \n",
    "        # An outlier is a point thats nsigma away from the median of the Euclidian distances\n",
    "        # We use the median instead of the mean, because outliers have high impact on the mean\n",
    "        cluster_outliers = [point for dist,point in distances_center.iteritems()\n",
    "                            if dist > median+nsigma*sigma or dist < median-nsigma*sigma]\n",
    "        \n",
    "        outliers.extend(cluster_outliers)\n",
    "        \n",
    "    return outliers"
   ]
  },
  {
   "cell_type": "markdown",
   "metadata": {},
   "source": [
    "Lets find the clusters and the outliers now:"
   ]
  },
  {
   "cell_type": "code",
   "execution_count": 53,
   "metadata": {
    "collapsed": false
   },
   "outputs": [
    {
     "name": "stdout",
     "output_type": "stream",
     "text": [
      "[array([-2.,  3.]), array([ 3.,  3.]), array([-2.,  0.]), array([ 5.,  2.]), array([ 12.,   2.]), array([-0.18515,  5.5484 ])]\n"
     ]
    }
   ],
   "source": [
    "centroids, clusters = kmeans(data, nclusters)\n",
    "anomalies = outliers(clusters, centroids, nsigma=4)\n",
    "\n",
    "print anomalies"
   ]
  },
  {
   "cell_type": "markdown",
   "metadata": {},
   "source": [
    "## Plot of the anomalies"
   ]
  },
  {
   "cell_type": "code",
   "execution_count": 54,
   "metadata": {
    "collapsed": false
   },
   "outputs": [
    {
     "data": {
      "image/png": "[encoded data removed]",
      "text/plain": [
       "<matplotlib.figure.Figure at 0x7ec20f0>"
      ]
     },
     "metadata": {},
     "output_type": "display_data"
    }
   ],
   "source": [
    "colors = cycle('bgrcmy')\n",
    "    \n",
    "for label, cluster in clusters.iteritems():\n",
    "    cluster = np.array(cluster)\n",
    "    # Plot the points of the cluster\n",
    "    d = plt.scatter(cluster[:,0], cluster[:,1], c=colors.next())\n",
    "    # Plot the center of the cluster\n",
    "    c = plt.scatter(centroids[label][0], centroids[label][1], c='r', marker='x')\n",
    "    # Plot the anomalies\n",
    "    anomalies = np.array(anomalies)        \n",
    "    a= plt.scatter(anomalies[:,0], anomalies[:,1], marker='o', s=80, facecolors='none', edgecolors='r')\n",
    "\n",
    "\n",
    "plt.legend((c, a), ('Centroid', 'Anomaly'), scatterpoints=1, loc='best', fontsize=8)\n",
    "plt.show()"
   ]
  },
  {
   "cell_type": "markdown",
   "metadata": {},
   "source": [
    "## Remarks\n",
    "\n",
    "The problem with $k$-means is that the results can differ from each run because the initial centers are chosen randomly and the outliers have an impact on the computed center. A possible improvement is to run $k$-means a few times and remove the temporarly found outliers from the data. Then the centers will be more accurate and the result more stable."
   ]
  }
 ],
 "metadata": {
  "kernelspec": {
   "display_name": "Python 2",
   "language": "python",
   "name": "python2"
  },
  "language_info": {
   "codemirror_mode": {
    "name": "ipython",
    "version": 2
   },
   "file_extension": ".py",
   "mimetype": "text/x-python",
   "name": "python",
   "nbconvert_exporter": "python",
   "pygments_lexer": "ipython2",
   "version": "2.7.11"
  }
 },
 "nbformat": 4,
 "nbformat_minor": 0
}
